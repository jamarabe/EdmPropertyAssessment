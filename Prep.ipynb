{
 "cells": [
  {
   "cell_type": "code",
   "execution_count": 3,
   "source": [
    "# Import packages\n",
    "\n",
    "#import thinkplot\n",
    "#import thinkstats2\n",
    "import pandas as pd\n",
    "import numpy as np\n",
    "import math\n",
    "import scipy.stats as ss\n",
    "import thinkplot\n",
    "import thinkstats2\n",
    "\n",
    "##Seaborn for fancy plots. \n",
    "import matplotlib.pyplot as plt\n",
    "import seaborn as sns\n",
    "plt.rcParams[\"figure.figsize\"] = (15,5)"
   ],
   "outputs": [],
   "metadata": {}
  },
  {
   "cell_type": "code",
   "execution_count": 3,
   "source": [
    "data = pd.read_csv('Sample10percentPropertyAssessmentData.csv', error_bad_lines=False)"
   ],
   "outputs": [
    {
     "output_type": "stream",
     "name": "stderr",
     "text": [
      "b'Skipping line 38961: expected 1 fields, saw 2\\nSkipping line 149706: expected 1 fields, saw 2\\nSkipping line 198117: expected 1 fields, saw 2\\nSkipping line 208487: expected 1 fields, saw 2\\nSkipping line 221766: expected 1 fields, saw 2\\nSkipping line 283566: expected 1 fields, saw 2\\nSkipping line 308790: expected 1 fields, saw 2\\n'\n"
     ]
    }
   ],
   "metadata": {}
  },
  {
   "cell_type": "code",
   "execution_count": 5,
   "source": [
    "data[10:]"
   ],
   "outputs": [
    {
     "output_type": "execute_result",
     "data": {
      "text/html": [
       "<div>\n",
       "<style scoped>\n",
       "    .dataframe tbody tr th:only-of-type {\n",
       "        vertical-align: middle;\n",
       "    }\n",
       "\n",
       "    .dataframe tbody tr th {\n",
       "        vertical-align: top;\n",
       "    }\n",
       "\n",
       "    .dataframe thead th {\n",
       "        text-align: right;\n",
       "    }\n",
       "</style>\n",
       "<table border=\"1\" class=\"dataframe\">\n",
       "  <thead>\n",
       "    <tr style=\"text-align: right;\">\n",
       "      <th></th>\n",
       "      <th>Account Number\\tAssessment Year\\tHouse Number\\tLatitude\\tLongitude\\tActual Year Built\\tGarage\\tAssessment Class 1\\tAssessment Class % 1\\tAssessment Class 2\\tAssessment Class % 2\\tAssessment Class 3\\tAssessment Class % 3\\tSuite\\tStreet Name\\tLegal Description\\tPoint Location\\tNeighbourhood\\tZoning\\tLot Size\\tAssessed Value</th>\n",
       "    </tr>\n",
       "  </thead>\n",
       "  <tbody>\n",
       "    <tr>\n",
       "      <th>10</th>\n",
       "      <td>7085376\\t2020\\t12219\\t53.45587\\t-113.54057\\t19...</td>\n",
       "    </tr>\n",
       "    <tr>\n",
       "      <th>11</th>\n",
       "      <td>10025786\\t2019\\t11919\\t53.41354\\t-113.52984\\t2...</td>\n",
       "    </tr>\n",
       "    <tr>\n",
       "      <th>12</th>\n",
       "      <td>10010439\\t2019\\t820\\t53.461\\t-113.57455\\t2004\\...</td>\n",
       "    </tr>\n",
       "    <tr>\n",
       "      <th>13</th>\n",
       "      <td>10092485\\t2013\\t\\t53.53432\\t-113.50239\\t2006\\t...</td>\n",
       "    </tr>\n",
       "    <tr>\n",
       "      <th>14</th>\n",
       "      <td>9104423\\t2013\\t10315\\t53.54534\\t-113.41661\\t19...</td>\n",
       "    </tr>\n",
       "    <tr>\n",
       "      <th>...</th>\n",
       "      <td>...</td>\n",
       "    </tr>\n",
       "    <tr>\n",
       "      <th>372321</th>\n",
       "      <td>9997727\\t2013\\t9704\\t53.53343\\t-113.62225\\t200...</td>\n",
       "    </tr>\n",
       "    <tr>\n",
       "      <th>372322</th>\n",
       "      <td>9467416\\t2019\\t1132\\t53.44086\\t-113.43273\\t197...</td>\n",
       "    </tr>\n",
       "    <tr>\n",
       "      <th>372323</th>\n",
       "      <td>10023501\\t2016\\t1031\\t53.48647\\t-113.67877\\t20...</td>\n",
       "    </tr>\n",
       "    <tr>\n",
       "      <th>372324</th>\n",
       "      <td>10276448\\t2014\\t2137\\t53.42192\\t-113.5973\\t201...</td>\n",
       "    </tr>\n",
       "    <tr>\n",
       "      <th>372325</th>\n",
       "      <td>9983398\\t2017\\t252\\t53.4988\\t-113.67169\\t2002\\...</td>\n",
       "    </tr>\n",
       "  </tbody>\n",
       "</table>\n",
       "<p>372316 rows × 1 columns</p>\n",
       "</div>"
      ],
      "text/plain": [
       "       Account Number\\tAssessment Year\\tHouse Number\\tLatitude\\tLongitude\\tActual Year Built\\tGarage\\tAssessment Class 1\\tAssessment Class % 1\\tAssessment Class 2\\tAssessment Class % 2\\tAssessment Class 3\\tAssessment Class % 3\\tSuite\\tStreet Name\\tLegal Description\\tPoint Location\\tNeighbourhood\\tZoning\\tLot Size\\tAssessed Value\n",
       "10      7085376\\t2020\\t12219\\t53.45587\\t-113.54057\\t19...                                                                                                                                                                                                                                                                                 \n",
       "11      10025786\\t2019\\t11919\\t53.41354\\t-113.52984\\t2...                                                                                                                                                                                                                                                                                 \n",
       "12      10010439\\t2019\\t820\\t53.461\\t-113.57455\\t2004\\...                                                                                                                                                                                                                                                                                 \n",
       "13      10092485\\t2013\\t\\t53.53432\\t-113.50239\\t2006\\t...                                                                                                                                                                                                                                                                                 \n",
       "14      9104423\\t2013\\t10315\\t53.54534\\t-113.41661\\t19...                                                                                                                                                                                                                                                                                 \n",
       "...                                                   ...                                                                                                                                                                                                                                                                                 \n",
       "372321  9997727\\t2013\\t9704\\t53.53343\\t-113.62225\\t200...                                                                                                                                                                                                                                                                                 \n",
       "372322  9467416\\t2019\\t1132\\t53.44086\\t-113.43273\\t197...                                                                                                                                                                                                                                                                                 \n",
       "372323  10023501\\t2016\\t1031\\t53.48647\\t-113.67877\\t20...                                                                                                                                                                                                                                                                                 \n",
       "372324  10276448\\t2014\\t2137\\t53.42192\\t-113.5973\\t201...                                                                                                                                                                                                                                                                                 \n",
       "372325  9983398\\t2017\\t252\\t53.4988\\t-113.67169\\t2002\\...                                                                                                                                                                                                                                                                                 \n",
       "\n",
       "[372316 rows x 1 columns]"
      ]
     },
     "metadata": {},
     "execution_count": 5
    }
   ],
   "metadata": {}
  },
  {
   "cell_type": "code",
   "execution_count": null,
   "source": [
    "data = pd.read_csv(\"Sample10percentPropertyAssessmentData.csv\")"
   ],
   "outputs": [],
   "metadata": {}
  },
  {
   "cell_type": "markdown",
   "source": [
    "Full Data"
   ],
   "metadata": {}
  },
  {
   "cell_type": "code",
   "execution_count": 4,
   "source": [
    "data = pd.read_csv(\"Property_Assessment_Data__Historical_.csv\")"
   ],
   "outputs": [
    {
     "output_type": "stream",
     "name": "stderr",
     "text": [
      "/opt/anaconda3/lib/python3.8/site-packages/IPython/core/interactiveshell.py:3165: DtypeWarning: Columns (2,17,19) have mixed types.Specify dtype option on import or set low_memory=False.\n",
      "  has_raised = await self.run_ast_nodes(code_ast.body, cell_name,\n"
     ]
    }
   ],
   "metadata": {}
  },
  {
   "cell_type": "code",
   "execution_count": 8,
   "source": [
    "data.head()"
   ],
   "outputs": [
    {
     "output_type": "execute_result",
     "data": {
      "text/html": [
       "<div>\n",
       "<style scoped>\n",
       "    .dataframe tbody tr th:only-of-type {\n",
       "        vertical-align: middle;\n",
       "    }\n",
       "\n",
       "    .dataframe tbody tr th {\n",
       "        vertical-align: top;\n",
       "    }\n",
       "\n",
       "    .dataframe thead th {\n",
       "        text-align: right;\n",
       "    }\n",
       "</style>\n",
       "<table border=\"1\" class=\"dataframe\">\n",
       "  <thead>\n",
       "    <tr style=\"text-align: right;\">\n",
       "      <th></th>\n",
       "      <th>Account Number</th>\n",
       "      <th>Assessment Year</th>\n",
       "      <th>Suite</th>\n",
       "      <th>House Number</th>\n",
       "      <th>Street Name</th>\n",
       "      <th>Legal Description</th>\n",
       "      <th>Latitude</th>\n",
       "      <th>Longitude</th>\n",
       "      <th>Point Location</th>\n",
       "      <th>Neighbourhood</th>\n",
       "      <th>...</th>\n",
       "      <th>Garage</th>\n",
       "      <th>Zoning</th>\n",
       "      <th>Lot Size</th>\n",
       "      <th>Assessed Value</th>\n",
       "      <th>Assessment Class 1</th>\n",
       "      <th>Assessment Class % 1</th>\n",
       "      <th>Assessment Class 2</th>\n",
       "      <th>Assessment Class % 2</th>\n",
       "      <th>Assessment Class 3</th>\n",
       "      <th>Assessment Class % 3</th>\n",
       "    </tr>\n",
       "  </thead>\n",
       "  <tbody>\n",
       "    <tr>\n",
       "      <th>0</th>\n",
       "      <td>1068451</td>\n",
       "      <td>2015</td>\n",
       "      <td>NaN</td>\n",
       "      <td>4007.0</td>\n",
       "      <td>SAVARYN DRIVE SW</td>\n",
       "      <td>SW  22-51-24-4</td>\n",
       "      <td>NaN</td>\n",
       "      <td>NaN</td>\n",
       "      <td>NaN</td>\n",
       "      <td>SUMMERSIDE</td>\n",
       "      <td>...</td>\n",
       "      <td>N</td>\n",
       "      <td>RPL</td>\n",
       "      <td>109,314.3210</td>\n",
       "      <td>7,597,000.00</td>\n",
       "      <td>RESIDENTIAL</td>\n",
       "      <td>100.0</td>\n",
       "      <td>NaN</td>\n",
       "      <td>NaN</td>\n",
       "      <td>NaN</td>\n",
       "      <td>NaN</td>\n",
       "    </tr>\n",
       "    <tr>\n",
       "      <th>1</th>\n",
       "      <td>1152594</td>\n",
       "      <td>2012</td>\n",
       "      <td>NaN</td>\n",
       "      <td>17310.0</td>\n",
       "      <td>97 STREET NW</td>\n",
       "      <td>NaN</td>\n",
       "      <td>NaN</td>\n",
       "      <td>NaN</td>\n",
       "      <td>NaN</td>\n",
       "      <td>ELSINORE</td>\n",
       "      <td>...</td>\n",
       "      <td>N</td>\n",
       "      <td>AG</td>\n",
       "      <td>0.0000</td>\n",
       "      <td>12,500.00</td>\n",
       "      <td>COMMERCIAL</td>\n",
       "      <td>100.0</td>\n",
       "      <td>NaN</td>\n",
       "      <td>NaN</td>\n",
       "      <td>NaN</td>\n",
       "      <td>NaN</td>\n",
       "    </tr>\n",
       "    <tr>\n",
       "      <th>2</th>\n",
       "      <td>1153568</td>\n",
       "      <td>2012</td>\n",
       "      <td>NaN</td>\n",
       "      <td>NaN</td>\n",
       "      <td>NaN</td>\n",
       "      <td>NaN</td>\n",
       "      <td>NaN</td>\n",
       "      <td>NaN</td>\n",
       "      <td>NaN</td>\n",
       "      <td>BATTERY OIL FIELDS</td>\n",
       "      <td>...</td>\n",
       "      <td>N</td>\n",
       "      <td>AG</td>\n",
       "      <td>0.0000</td>\n",
       "      <td>88,000.00</td>\n",
       "      <td>COMMERCIAL</td>\n",
       "      <td>100.0</td>\n",
       "      <td>NaN</td>\n",
       "      <td>NaN</td>\n",
       "      <td>NaN</td>\n",
       "      <td>NaN</td>\n",
       "    </tr>\n",
       "    <tr>\n",
       "      <th>3</th>\n",
       "      <td>1153626</td>\n",
       "      <td>2014</td>\n",
       "      <td>NaN</td>\n",
       "      <td>NaN</td>\n",
       "      <td>NaN</td>\n",
       "      <td>NaN</td>\n",
       "      <td>NaN</td>\n",
       "      <td>NaN</td>\n",
       "      <td>NaN</td>\n",
       "      <td>BATTERY OIL FIELDS</td>\n",
       "      <td>...</td>\n",
       "      <td>N</td>\n",
       "      <td>AG</td>\n",
       "      <td>0.0000</td>\n",
       "      <td>0.00</td>\n",
       "      <td>COMMERCIAL</td>\n",
       "      <td>100.0</td>\n",
       "      <td>NaN</td>\n",
       "      <td>NaN</td>\n",
       "      <td>NaN</td>\n",
       "      <td>NaN</td>\n",
       "    </tr>\n",
       "    <tr>\n",
       "      <th>4</th>\n",
       "      <td>1248590</td>\n",
       "      <td>2016</td>\n",
       "      <td>NaN</td>\n",
       "      <td>NaN</td>\n",
       "      <td>NaN</td>\n",
       "      <td>NW  3-52-25-4</td>\n",
       "      <td>NaN</td>\n",
       "      <td>NaN</td>\n",
       "      <td>NaN</td>\n",
       "      <td>TERWILLEGAR AREA</td>\n",
       "      <td>...</td>\n",
       "      <td>N</td>\n",
       "      <td>A</td>\n",
       "      <td>10,000.0000</td>\n",
       "      <td>49,500.00</td>\n",
       "      <td>COMMERCIAL</td>\n",
       "      <td>100.0</td>\n",
       "      <td>NaN</td>\n",
       "      <td>NaN</td>\n",
       "      <td>NaN</td>\n",
       "      <td>NaN</td>\n",
       "    </tr>\n",
       "  </tbody>\n",
       "</table>\n",
       "<p>5 rows × 21 columns</p>\n",
       "</div>"
      ],
      "text/plain": [
       "   Account Number  Assessment Year Suite  House Number       Street Name  \\\n",
       "0         1068451             2015   NaN        4007.0  SAVARYN DRIVE SW   \n",
       "1         1152594             2012   NaN       17310.0      97 STREET NW   \n",
       "2         1153568             2012   NaN           NaN               NaN   \n",
       "3         1153626             2014   NaN           NaN               NaN   \n",
       "4         1248590             2016   NaN           NaN               NaN   \n",
       "\n",
       "  Legal Description  Latitude  Longitude Point Location       Neighbourhood  \\\n",
       "0    SW  22-51-24-4       NaN        NaN            NaN          SUMMERSIDE   \n",
       "1               NaN       NaN        NaN            NaN            ELSINORE   \n",
       "2               NaN       NaN        NaN            NaN  BATTERY OIL FIELDS   \n",
       "3               NaN       NaN        NaN            NaN  BATTERY OIL FIELDS   \n",
       "4     NW  3-52-25-4       NaN        NaN            NaN    TERWILLEGAR AREA   \n",
       "\n",
       "   ...  Garage Zoning      Lot Size Assessed Value Assessment Class 1  \\\n",
       "0  ...       N    RPL  109,314.3210   7,597,000.00        RESIDENTIAL   \n",
       "1  ...       N     AG        0.0000      12,500.00         COMMERCIAL   \n",
       "2  ...       N     AG        0.0000      88,000.00         COMMERCIAL   \n",
       "3  ...       N     AG        0.0000           0.00         COMMERCIAL   \n",
       "4  ...       N      A   10,000.0000      49,500.00         COMMERCIAL   \n",
       "\n",
       "  Assessment Class % 1  Assessment Class 2 Assessment Class % 2  \\\n",
       "0                100.0                 NaN                  NaN   \n",
       "1                100.0                 NaN                  NaN   \n",
       "2                100.0                 NaN                  NaN   \n",
       "3                100.0                 NaN                  NaN   \n",
       "4                100.0                 NaN                  NaN   \n",
       "\n",
       "   Assessment Class 3 Assessment Class % 3  \n",
       "0                 NaN                  NaN  \n",
       "1                 NaN                  NaN  \n",
       "2                 NaN                  NaN  \n",
       "3                 NaN                  NaN  \n",
       "4                 NaN                  NaN  \n",
       "\n",
       "[5 rows x 21 columns]"
      ]
     },
     "metadata": {},
     "execution_count": 8
    }
   ],
   "metadata": {}
  },
  {
   "cell_type": "code",
   "execution_count": 9,
   "source": [
    "data.columns"
   ],
   "outputs": [
    {
     "output_type": "execute_result",
     "data": {
      "text/plain": [
       "Index(['Account Number', 'Assessment Year', 'Suite', 'House Number',\n",
       "       'Street Name', 'Legal Description', 'Latitude', 'Longitude',\n",
       "       'Point Location', 'Neighbourhood', 'Actual Year Built', 'Garage',\n",
       "       'Zoning', 'Lot Size', 'Assessed Value', 'Assessment Class 1',\n",
       "       'Assessment Class % 1', 'Assessment Class 2', 'Assessment Class % 2',\n",
       "       'Assessment Class 3', 'Assessment Class % 3'],\n",
       "      dtype='object')"
      ]
     },
     "metadata": {},
     "execution_count": 9
    }
   ],
   "metadata": {}
  },
  {
   "cell_type": "code",
   "execution_count": 5,
   "source": [
    "data['Assessment Class 1'].value_counts()"
   ],
   "outputs": [
    {
     "output_type": "execute_result",
     "data": {
      "text/plain": [
       "RESIDENTIAL                       3162569\n",
       "COMMERCIAL                         181348\n",
       "OTHER RESIDENTIAL                   36509\n",
       "FARMLAND                             4042\n",
       "NONRES MUNICIPAL/RES EDUCATION          3\n",
       "Name: Assessment Class 1, dtype: int64"
      ]
     },
     "metadata": {},
     "execution_count": 5
    }
   ],
   "metadata": {}
  },
  {
   "cell_type": "code",
   "execution_count": 9,
   "source": [
    "data['Assessment Class % 1'].value_counts()"
   ],
   "outputs": [
    {
     "output_type": "execute_result",
     "data": {
      "text/plain": [
       "100.0    3376034\n",
       "99.0        1013\n",
       "1.0          484\n",
       "98.0         339\n",
       "50.0         224\n",
       "          ...   \n",
       "43.0          14\n",
       "41.0          13\n",
       "44.0          11\n",
       "47.0           7\n",
       "37.0           4\n",
       "Name: Assessment Class % 1, Length: 100, dtype: int64"
      ]
     },
     "metadata": {},
     "execution_count": 9
    }
   ],
   "metadata": {}
  },
  {
   "cell_type": "code",
   "execution_count": 6,
   "source": [
    "data['Assessment Class 2'].value_counts()"
   ],
   "outputs": [
    {
     "output_type": "execute_result",
     "data": {
      "text/plain": [
       "COMMERCIAL                        2909\n",
       "FARMLAND                          2583\n",
       "RESIDENTIAL                       1656\n",
       "OTHER RESIDENTIAL                 1288\n",
       "NONRES MUNICIPAL/RES EDUCATION       1\n",
       "Name: Assessment Class 2, dtype: int64"
      ]
     },
     "metadata": {},
     "execution_count": 6
    }
   ],
   "metadata": {}
  },
  {
   "cell_type": "code",
   "execution_count": 7,
   "source": [
    "data['Assessment Class 3'].value_counts()"
   ],
   "outputs": [
    {
     "output_type": "execute_result",
     "data": {
      "text/plain": [
       "FARMLAND                          840\n",
       "COMMERCIAL                        212\n",
       "RESIDENTIAL                       161\n",
       "OTHER RESIDENTIAL                  20\n",
       "NONRES MUNICIPAL/RES EDUCATION      3\n",
       "Name: Assessment Class 3, dtype: int64"
      ]
     },
     "metadata": {},
     "execution_count": 7
    }
   ],
   "metadata": {}
  },
  {
   "cell_type": "markdown",
   "source": [
    "<h1>Extracting only the non-mixed assessment class\n"
   ],
   "metadata": {}
  },
  {
   "cell_type": "code",
   "execution_count": 25,
   "source": [
    "data_nmx = data[data['Assessment Class % 1'] == 100.0]\n",
    "data_nmx[10:]"
   ],
   "outputs": [
    {
     "output_type": "execute_result",
     "data": {
      "text/html": [
       "<div>\n",
       "<style scoped>\n",
       "    .dataframe tbody tr th:only-of-type {\n",
       "        vertical-align: middle;\n",
       "    }\n",
       "\n",
       "    .dataframe tbody tr th {\n",
       "        vertical-align: top;\n",
       "    }\n",
       "\n",
       "    .dataframe thead th {\n",
       "        text-align: right;\n",
       "    }\n",
       "</style>\n",
       "<table border=\"1\" class=\"dataframe\">\n",
       "  <thead>\n",
       "    <tr style=\"text-align: right;\">\n",
       "      <th></th>\n",
       "      <th>Account Number</th>\n",
       "      <th>Assessment Year</th>\n",
       "      <th>Suite</th>\n",
       "      <th>House Number</th>\n",
       "      <th>Street Name</th>\n",
       "      <th>Legal Description</th>\n",
       "      <th>Latitude</th>\n",
       "      <th>Longitude</th>\n",
       "      <th>Point Location</th>\n",
       "      <th>Neighbourhood</th>\n",
       "      <th>...</th>\n",
       "      <th>Garage</th>\n",
       "      <th>Zoning</th>\n",
       "      <th>Lot Size</th>\n",
       "      <th>Assessed Value</th>\n",
       "      <th>Assessment Class 1</th>\n",
       "      <th>Assessment Class % 1</th>\n",
       "      <th>Assessment Class 2</th>\n",
       "      <th>Assessment Class % 2</th>\n",
       "      <th>Assessment Class 3</th>\n",
       "      <th>Assessment Class % 3</th>\n",
       "    </tr>\n",
       "  </thead>\n",
       "  <tbody>\n",
       "    <tr>\n",
       "      <th>10</th>\n",
       "      <td>3000239</td>\n",
       "      <td>2013</td>\n",
       "      <td>NaN</td>\n",
       "      <td>NaN</td>\n",
       "      <td>NaN</td>\n",
       "      <td>NaN</td>\n",
       "      <td>NaN</td>\n",
       "      <td>NaN</td>\n",
       "      <td>NaN</td>\n",
       "      <td>DOWNTOWN</td>\n",
       "      <td>...</td>\n",
       "      <td>N</td>\n",
       "      <td>CMX*</td>\n",
       "      <td>0.0000</td>\n",
       "      <td>500.00</td>\n",
       "      <td>COMMERCIAL</td>\n",
       "      <td>100.0</td>\n",
       "      <td>NaN</td>\n",
       "      <td>NaN</td>\n",
       "      <td>NaN</td>\n",
       "      <td>NaN</td>\n",
       "    </tr>\n",
       "    <tr>\n",
       "      <th>11</th>\n",
       "      <td>3008497</td>\n",
       "      <td>2012</td>\n",
       "      <td>NaN</td>\n",
       "      <td>12154.0</td>\n",
       "      <td>160 STREET NW</td>\n",
       "      <td>NaN</td>\n",
       "      <td>NaN</td>\n",
       "      <td>NaN</td>\n",
       "      <td>NaN</td>\n",
       "      <td>SPUR LINES</td>\n",
       "      <td>...</td>\n",
       "      <td>N</td>\n",
       "      <td>AG</td>\n",
       "      <td>104.7900</td>\n",
       "      <td>1,035.00</td>\n",
       "      <td>COMMERCIAL</td>\n",
       "      <td>100.0</td>\n",
       "      <td>NaN</td>\n",
       "      <td>NaN</td>\n",
       "      <td>NaN</td>\n",
       "      <td>NaN</td>\n",
       "    </tr>\n",
       "    <tr>\n",
       "      <th>13</th>\n",
       "      <td>3029550</td>\n",
       "      <td>2014</td>\n",
       "      <td>NaN</td>\n",
       "      <td>NaN</td>\n",
       "      <td>NaN</td>\n",
       "      <td>NaN</td>\n",
       "      <td>NaN</td>\n",
       "      <td>NaN</td>\n",
       "      <td>NaN</td>\n",
       "      <td>BATTERY OIL FIELDS</td>\n",
       "      <td>...</td>\n",
       "      <td>N</td>\n",
       "      <td>AG</td>\n",
       "      <td>0.0000</td>\n",
       "      <td>0.00</td>\n",
       "      <td>COMMERCIAL</td>\n",
       "      <td>100.0</td>\n",
       "      <td>NaN</td>\n",
       "      <td>NaN</td>\n",
       "      <td>NaN</td>\n",
       "      <td>NaN</td>\n",
       "    </tr>\n",
       "    <tr>\n",
       "      <th>14</th>\n",
       "      <td>3169893</td>\n",
       "      <td>2019</td>\n",
       "      <td>NaN</td>\n",
       "      <td>2503.0</td>\n",
       "      <td>101 STREET SW</td>\n",
       "      <td>Plan: 8721140  Block: E</td>\n",
       "      <td>NaN</td>\n",
       "      <td>NaN</td>\n",
       "      <td>NaN</td>\n",
       "      <td>ELLERSLIE INDUSTRIAL</td>\n",
       "      <td>...</td>\n",
       "      <td>N</td>\n",
       "      <td>AGI</td>\n",
       "      <td>49,452.5010</td>\n",
       "      <td>244,500.00</td>\n",
       "      <td>RESIDENTIAL</td>\n",
       "      <td>100.0</td>\n",
       "      <td>NaN</td>\n",
       "      <td>NaN</td>\n",
       "      <td>NaN</td>\n",
       "      <td>NaN</td>\n",
       "    </tr>\n",
       "    <tr>\n",
       "      <th>15</th>\n",
       "      <td>3283090</td>\n",
       "      <td>2018</td>\n",
       "      <td>NaN</td>\n",
       "      <td>NaN</td>\n",
       "      <td>NaN</td>\n",
       "      <td>NaN</td>\n",
       "      <td>NaN</td>\n",
       "      <td>NaN</td>\n",
       "      <td>NaN</td>\n",
       "      <td>OLIVER</td>\n",
       "      <td>...</td>\n",
       "      <td>N</td>\n",
       "      <td>US</td>\n",
       "      <td>0.0000</td>\n",
       "      <td>565,000.00</td>\n",
       "      <td>COMMERCIAL</td>\n",
       "      <td>100.0</td>\n",
       "      <td>NaN</td>\n",
       "      <td>NaN</td>\n",
       "      <td>NaN</td>\n",
       "      <td>NaN</td>\n",
       "    </tr>\n",
       "    <tr>\n",
       "      <th>...</th>\n",
       "      <td>...</td>\n",
       "      <td>...</td>\n",
       "      <td>...</td>\n",
       "      <td>...</td>\n",
       "      <td>...</td>\n",
       "      <td>...</td>\n",
       "      <td>...</td>\n",
       "      <td>...</td>\n",
       "      <td>...</td>\n",
       "      <td>...</td>\n",
       "      <td>...</td>\n",
       "      <td>...</td>\n",
       "      <td>...</td>\n",
       "      <td>...</td>\n",
       "      <td>...</td>\n",
       "      <td>...</td>\n",
       "      <td>...</td>\n",
       "      <td>...</td>\n",
       "      <td>...</td>\n",
       "      <td>...</td>\n",
       "      <td>...</td>\n",
       "    </tr>\n",
       "    <tr>\n",
       "      <th>3384815</th>\n",
       "      <td>10928906</td>\n",
       "      <td>2020</td>\n",
       "      <td>NaN</td>\n",
       "      <td>12527.0</td>\n",
       "      <td>STONY PLAIN ROAD NW</td>\n",
       "      <td>Plan: 1920367  Block: A</td>\n",
       "      <td>53.54718</td>\n",
       "      <td>-113.53928</td>\n",
       "      <td>POINT (-113.53928 53.54718)</td>\n",
       "      <td>WESTMOUNT</td>\n",
       "      <td>...</td>\n",
       "      <td>N</td>\n",
       "      <td>RA7</td>\n",
       "      <td>43.9930</td>\n",
       "      <td>6,500.00</td>\n",
       "      <td>OTHER RESIDENTIAL</td>\n",
       "      <td>100.0</td>\n",
       "      <td>NaN</td>\n",
       "      <td>NaN</td>\n",
       "      <td>NaN</td>\n",
       "      <td>NaN</td>\n",
       "    </tr>\n",
       "    <tr>\n",
       "      <th>3384816</th>\n",
       "      <td>10954527</td>\n",
       "      <td>2020</td>\n",
       "      <td>NaN</td>\n",
       "      <td>NaN</td>\n",
       "      <td>NaN</td>\n",
       "      <td>Plan: 1923211  Unit: 87A</td>\n",
       "      <td>53.51841</td>\n",
       "      <td>-113.50710</td>\n",
       "      <td>POINT (-113.5071 53.51841)</td>\n",
       "      <td>GARNEAU</td>\n",
       "      <td>...</td>\n",
       "      <td>N</td>\n",
       "      <td>DC1</td>\n",
       "      <td>5.8490</td>\n",
       "      <td>10,000.00</td>\n",
       "      <td>RESIDENTIAL</td>\n",
       "      <td>100.0</td>\n",
       "      <td>NaN</td>\n",
       "      <td>NaN</td>\n",
       "      <td>NaN</td>\n",
       "      <td>NaN</td>\n",
       "    </tr>\n",
       "    <tr>\n",
       "      <th>3384817</th>\n",
       "      <td>10954448</td>\n",
       "      <td>2020</td>\n",
       "      <td>116</td>\n",
       "      <td>10728.0</td>\n",
       "      <td>82 AVENUE NW</td>\n",
       "      <td>Plan: 1923211  Unit: 7A</td>\n",
       "      <td>53.51841</td>\n",
       "      <td>-113.50710</td>\n",
       "      <td>POINT (-113.5071 53.51841)</td>\n",
       "      <td>GARNEAU</td>\n",
       "      <td>...</td>\n",
       "      <td>N</td>\n",
       "      <td>DC1</td>\n",
       "      <td>63.6490</td>\n",
       "      <td>408,000.00</td>\n",
       "      <td>RESIDENTIAL</td>\n",
       "      <td>100.0</td>\n",
       "      <td>NaN</td>\n",
       "      <td>NaN</td>\n",
       "      <td>NaN</td>\n",
       "      <td>NaN</td>\n",
       "    </tr>\n",
       "    <tr>\n",
       "      <th>3384818</th>\n",
       "      <td>10931845</td>\n",
       "      <td>2020</td>\n",
       "      <td>NaN</td>\n",
       "      <td>13307.0</td>\n",
       "      <td>17 STREET NE</td>\n",
       "      <td>NaN</td>\n",
       "      <td>53.59871</td>\n",
       "      <td>-113.31675</td>\n",
       "      <td>POINT (-113.31675 53.59871)</td>\n",
       "      <td>CLOVER BAR AREA</td>\n",
       "      <td>...</td>\n",
       "      <td>N</td>\n",
       "      <td>A</td>\n",
       "      <td>161.8853</td>\n",
       "      <td>6,000.00</td>\n",
       "      <td>COMMERCIAL</td>\n",
       "      <td>100.0</td>\n",
       "      <td>NaN</td>\n",
       "      <td>NaN</td>\n",
       "      <td>NaN</td>\n",
       "      <td>NaN</td>\n",
       "    </tr>\n",
       "    <tr>\n",
       "      <th>3384819</th>\n",
       "      <td>10943939</td>\n",
       "      <td>2020</td>\n",
       "      <td>NaN</td>\n",
       "      <td>5242.0</td>\n",
       "      <td>23 AVENUE SW</td>\n",
       "      <td>Plan: 1922598  Block: 11  Lot: 33</td>\n",
       "      <td>53.41254</td>\n",
       "      <td>-113.42280</td>\n",
       "      <td>POINT (-113.4228 53.41254)</td>\n",
       "      <td>WALKER</td>\n",
       "      <td>...</td>\n",
       "      <td>N</td>\n",
       "      <td>DC1</td>\n",
       "      <td>340.3530</td>\n",
       "      <td>146,500.00</td>\n",
       "      <td>RESIDENTIAL</td>\n",
       "      <td>100.0</td>\n",
       "      <td>NaN</td>\n",
       "      <td>NaN</td>\n",
       "      <td>NaN</td>\n",
       "      <td>NaN</td>\n",
       "    </tr>\n",
       "  </tbody>\n",
       "</table>\n",
       "<p>3376024 rows × 21 columns</p>\n",
       "</div>"
      ],
      "text/plain": [
       "         Account Number  Assessment Year Suite  House Number  \\\n",
       "10              3000239             2013   NaN           NaN   \n",
       "11              3008497             2012   NaN       12154.0   \n",
       "13              3029550             2014   NaN           NaN   \n",
       "14              3169893             2019   NaN        2503.0   \n",
       "15              3283090             2018   NaN           NaN   \n",
       "...                 ...              ...   ...           ...   \n",
       "3384815        10928906             2020   NaN       12527.0   \n",
       "3384816        10954527             2020   NaN           NaN   \n",
       "3384817        10954448             2020   116       10728.0   \n",
       "3384818        10931845             2020   NaN       13307.0   \n",
       "3384819        10943939             2020   NaN        5242.0   \n",
       "\n",
       "                 Street Name                  Legal Description  Latitude  \\\n",
       "10                       NaN                                NaN       NaN   \n",
       "11             160 STREET NW                                NaN       NaN   \n",
       "13                       NaN                                NaN       NaN   \n",
       "14             101 STREET SW            Plan: 8721140  Block: E       NaN   \n",
       "15                       NaN                                NaN       NaN   \n",
       "...                      ...                                ...       ...   \n",
       "3384815  STONY PLAIN ROAD NW            Plan: 1920367  Block: A  53.54718   \n",
       "3384816                  NaN           Plan: 1923211  Unit: 87A  53.51841   \n",
       "3384817         82 AVENUE NW            Plan: 1923211  Unit: 7A  53.51841   \n",
       "3384818         17 STREET NE                                NaN  53.59871   \n",
       "3384819         23 AVENUE SW  Plan: 1922598  Block: 11  Lot: 33  53.41254   \n",
       "\n",
       "         Longitude               Point Location         Neighbourhood  ...  \\\n",
       "10             NaN                          NaN              DOWNTOWN  ...   \n",
       "11             NaN                          NaN            SPUR LINES  ...   \n",
       "13             NaN                          NaN    BATTERY OIL FIELDS  ...   \n",
       "14             NaN                          NaN  ELLERSLIE INDUSTRIAL  ...   \n",
       "15             NaN                          NaN                OLIVER  ...   \n",
       "...            ...                          ...                   ...  ...   \n",
       "3384815 -113.53928  POINT (-113.53928 53.54718)             WESTMOUNT  ...   \n",
       "3384816 -113.50710   POINT (-113.5071 53.51841)               GARNEAU  ...   \n",
       "3384817 -113.50710   POINT (-113.5071 53.51841)               GARNEAU  ...   \n",
       "3384818 -113.31675  POINT (-113.31675 53.59871)       CLOVER BAR AREA  ...   \n",
       "3384819 -113.42280   POINT (-113.4228 53.41254)                WALKER  ...   \n",
       "\n",
       "         Garage Zoning     Lot Size Assessed Value Assessment Class 1  \\\n",
       "10            N   CMX*       0.0000         500.00         COMMERCIAL   \n",
       "11            N     AG     104.7900       1,035.00         COMMERCIAL   \n",
       "13            N     AG       0.0000           0.00         COMMERCIAL   \n",
       "14            N    AGI  49,452.5010     244,500.00        RESIDENTIAL   \n",
       "15            N     US       0.0000     565,000.00         COMMERCIAL   \n",
       "...         ...    ...          ...            ...                ...   \n",
       "3384815       N    RA7      43.9930       6,500.00  OTHER RESIDENTIAL   \n",
       "3384816       N    DC1       5.8490      10,000.00        RESIDENTIAL   \n",
       "3384817       N    DC1      63.6490     408,000.00        RESIDENTIAL   \n",
       "3384818       N      A     161.8853       6,000.00         COMMERCIAL   \n",
       "3384819       N    DC1     340.3530     146,500.00        RESIDENTIAL   \n",
       "\n",
       "        Assessment Class % 1  Assessment Class 2 Assessment Class % 2  \\\n",
       "10                     100.0                 NaN                  NaN   \n",
       "11                     100.0                 NaN                  NaN   \n",
       "13                     100.0                 NaN                  NaN   \n",
       "14                     100.0                 NaN                  NaN   \n",
       "15                     100.0                 NaN                  NaN   \n",
       "...                      ...                 ...                  ...   \n",
       "3384815                100.0                 NaN                  NaN   \n",
       "3384816                100.0                 NaN                  NaN   \n",
       "3384817                100.0                 NaN                  NaN   \n",
       "3384818                100.0                 NaN                  NaN   \n",
       "3384819                100.0                 NaN                  NaN   \n",
       "\n",
       "         Assessment Class 3 Assessment Class % 3  \n",
       "10                      NaN                  NaN  \n",
       "11                      NaN                  NaN  \n",
       "13                      NaN                  NaN  \n",
       "14                      NaN                  NaN  \n",
       "15                      NaN                  NaN  \n",
       "...                     ...                  ...  \n",
       "3384815                 NaN                  NaN  \n",
       "3384816                 NaN                  NaN  \n",
       "3384817                 NaN                  NaN  \n",
       "3384818                 NaN                  NaN  \n",
       "3384819                 NaN                  NaN  \n",
       "\n",
       "[3376024 rows x 21 columns]"
      ]
     },
     "metadata": {},
     "execution_count": 25
    }
   ],
   "metadata": {}
  },
  {
   "cell_type": "code",
   "execution_count": 27,
   "source": [
    "data_nmx.columns"
   ],
   "outputs": [
    {
     "output_type": "execute_result",
     "data": {
      "text/plain": [
       "Index(['Account Number', 'Assessment Year', 'Suite', 'House Number',\n",
       "       'Street Name', 'Legal Description', 'Latitude', 'Longitude',\n",
       "       'Point Location', 'Neighbourhood', 'Actual Year Built', 'Garage',\n",
       "       'Zoning', 'Lot Size', 'Assessed Value', 'Assessment Class 1',\n",
       "       'Assessment Class % 1', 'Assessment Class 2', 'Assessment Class % 2',\n",
       "       'Assessment Class 3', 'Assessment Class % 3'],\n",
       "      dtype='object')"
      ]
     },
     "metadata": {},
     "execution_count": 27
    }
   ],
   "metadata": {}
  },
  {
   "cell_type": "code",
   "execution_count": null,
   "source": [
    "# Sample code for reference\n",
    "# if you want to operate on multiple columns, put them in a list like so:\n",
    "cols = ['Assessed Value', 'col2', ..., 'colN']\n",
    "\n",
    "# pass them to df.replace(), specifying each char and it's replacement:\n",
    "df[cols] = df[cols].replace({'\\$': '', ',': ''}, regex=True)"
   ],
   "outputs": [],
   "metadata": {}
  },
  {
   "cell_type": "code",
   "execution_count": 28,
   "source": [
    "data_nmx['Assessed Value'] = data_nmx['Assessed Value'].replace({'\\$': '', ',': ''}, regex=True)"
   ],
   "outputs": [
    {
     "output_type": "stream",
     "name": "stderr",
     "text": [
      "<ipython-input-28-7492a9240fbb>:1: SettingWithCopyWarning: \n",
      "A value is trying to be set on a copy of a slice from a DataFrame.\n",
      "Try using .loc[row_indexer,col_indexer] = value instead\n",
      "\n",
      "See the caveats in the documentation: https://pandas.pydata.org/pandas-docs/stable/user_guide/indexing.html#returning-a-view-versus-a-copy\n",
      "  data_nmx['Assessed Value'] = data_nmx['Assessed Value'].replace({'\\$': '', ',': ''}, regex=True)\n"
     ]
    }
   ],
   "metadata": {}
  },
  {
   "cell_type": "code",
   "execution_count": 30,
   "source": [
    "data_nmx['Assessed Value'].describe()"
   ],
   "outputs": [
    {
     "output_type": "execute_result",
     "data": {
      "text/plain": [
       "count     3376034\n",
       "unique      25779\n",
       "top       8000.00\n",
       "freq        26371\n",
       "Name: Assessed Value, dtype: object"
      ]
     },
     "metadata": {},
     "execution_count": 30
    }
   ],
   "metadata": {}
  },
  {
   "cell_type": "code",
   "execution_count": 31,
   "source": [
    "data_nmx['Assessed Value'] = data_nmx['Assessed Value'].astype('float')"
   ],
   "outputs": [
    {
     "output_type": "stream",
     "name": "stderr",
     "text": [
      "<ipython-input-31-b9be9b27dd13>:1: SettingWithCopyWarning: \n",
      "A value is trying to be set on a copy of a slice from a DataFrame.\n",
      "Try using .loc[row_indexer,col_indexer] = value instead\n",
      "\n",
      "See the caveats in the documentation: https://pandas.pydata.org/pandas-docs/stable/user_guide/indexing.html#returning-a-view-versus-a-copy\n",
      "  data_nmx['Assessed Value'] = data_nmx['Assessed Value'].astype('float')\n"
     ]
    }
   ],
   "metadata": {}
  },
  {
   "cell_type": "code",
   "execution_count": 32,
   "source": [
    "data_nmx['Assessed Value'].describe()"
   ],
   "outputs": [
    {
     "output_type": "execute_result",
     "data": {
      "text/plain": [
       "count    3.376034e+06\n",
       "mean     4.469757e+05\n",
       "std      2.921983e+06\n",
       "min      0.000000e+00\n",
       "25%      1.850000e+05\n",
       "50%      3.175000e+05\n",
       "75%      4.165000e+05\n",
       "max      7.468540e+08\n",
       "Name: Assessed Value, dtype: float64"
      ]
     },
     "metadata": {},
     "execution_count": 32
    }
   ],
   "metadata": {}
  },
  {
   "cell_type": "code",
   "execution_count": 33,
   "source": [
    "data_nmx.dtypes"
   ],
   "outputs": [
    {
     "output_type": "execute_result",
     "data": {
      "text/plain": [
       "Account Number            int64\n",
       "Assessment Year           int64\n",
       "Suite                    object\n",
       "House Number            float64\n",
       "Street Name              object\n",
       "Legal Description        object\n",
       "Latitude                float64\n",
       "Longitude               float64\n",
       "Point Location           object\n",
       "Neighbourhood            object\n",
       "Actual Year Built       float64\n",
       "Garage                   object\n",
       "Zoning                   object\n",
       "Lot Size                 object\n",
       "Assessed Value          float64\n",
       "Assessment Class 1       object\n",
       "Assessment Class % 1    float64\n",
       "Assessment Class 2       object\n",
       "Assessment Class % 2    float64\n",
       "Assessment Class 3       object\n",
       "Assessment Class % 3    float64\n",
       "dtype: object"
      ]
     },
     "metadata": {},
     "execution_count": 33
    }
   ],
   "metadata": {}
  },
  {
   "cell_type": "code",
   "execution_count": 34,
   "source": [
    "data_nmx['Lot Size'] = data_nmx['Lot Size'].replace({'\\$': '', ',': ''}, regex=True)\n",
    "data_nmx['Lot Size'] = data_nmx['Lot Size'].astype('float')"
   ],
   "outputs": [
    {
     "output_type": "stream",
     "name": "stderr",
     "text": [
      "<ipython-input-34-786d37373c4c>:1: SettingWithCopyWarning: \n",
      "A value is trying to be set on a copy of a slice from a DataFrame.\n",
      "Try using .loc[row_indexer,col_indexer] = value instead\n",
      "\n",
      "See the caveats in the documentation: https://pandas.pydata.org/pandas-docs/stable/user_guide/indexing.html#returning-a-view-versus-a-copy\n",
      "  data_nmx['Lot Size'] = data_nmx['Lot Size'].replace({'\\$': '', ',': ''}, regex=True)\n",
      "<ipython-input-34-786d37373c4c>:2: SettingWithCopyWarning: \n",
      "A value is trying to be set on a copy of a slice from a DataFrame.\n",
      "Try using .loc[row_indexer,col_indexer] = value instead\n",
      "\n",
      "See the caveats in the documentation: https://pandas.pydata.org/pandas-docs/stable/user_guide/indexing.html#returning-a-view-versus-a-copy\n",
      "  data_nmx['Lot Size'] = data_nmx['Lot Size'].astype('float')\n"
     ]
    }
   ],
   "metadata": {}
  },
  {
   "cell_type": "code",
   "execution_count": 35,
   "source": [
    "data_nmx['Lot Size'].describe()"
   ],
   "outputs": [
    {
     "output_type": "execute_result",
     "data": {
      "text/plain": [
       "count    3.349888e+06\n",
       "mean     1.319616e+03\n",
       "std      1.974837e+04\n",
       "min      0.000000e+00\n",
       "25%      1.495457e+02\n",
       "50%      3.973560e+02\n",
       "75%      5.845320e+02\n",
       "max      9.823818e+06\n",
       "Name: Lot Size, dtype: float64"
      ]
     },
     "metadata": {},
     "execution_count": 35
    }
   ],
   "metadata": {}
  },
  {
   "cell_type": "code",
   "execution_count": 36,
   "source": [
    "data_nmx['Assessment Year'].value_counts()"
   ],
   "outputs": [
    {
     "output_type": "execute_result",
     "data": {
      "text/plain": [
       "2020    408304\n",
       "2019    401328\n",
       "2018    394901\n",
       "2017    388399\n",
       "2016    380146\n",
       "2015    366538\n",
       "2014    354899\n",
       "2013    345155\n",
       "2012    336364\n",
       "Name: Assessment Year, dtype: int64"
      ]
     },
     "metadata": {},
     "execution_count": 36
    }
   ],
   "metadata": {}
  },
  {
   "cell_type": "code",
   "execution_count": 37,
   "source": [
    "data_nmx['Neighbourhood'].value_counts()"
   ],
   "outputs": [
    {
     "output_type": "execute_result",
     "data": {
      "text/plain": [
       "OLIVER                              104775\n",
       "DOWNTOWN                             83143\n",
       "RUTHERFORD                           45235\n",
       "SUMMERSIDE                           42687\n",
       "WINDERMERE                           41195\n",
       "                                     ...  \n",
       "MATTSON                                  6\n",
       "TERWILLEGAR AREA                         5\n",
       "CRYSTALLINA NERA EAST                    5\n",
       "POWER STATIONS                           3\n",
       "LAKE DISTRICT NORTH EAST PORTION         2\n",
       "Name: Neighbourhood, Length: 423, dtype: int64"
      ]
     },
     "metadata": {},
     "execution_count": 37
    }
   ],
   "metadata": {}
  },
  {
   "cell_type": "code",
   "execution_count": null,
   "source": [],
   "outputs": [],
   "metadata": {}
  }
 ],
 "metadata": {
  "orig_nbformat": 4,
  "language_info": {
   "name": "python",
   "version": "3.8.8",
   "mimetype": "text/x-python",
   "codemirror_mode": {
    "name": "ipython",
    "version": 3
   },
   "pygments_lexer": "ipython3",
   "nbconvert_exporter": "python",
   "file_extension": ".py"
  },
  "kernelspec": {
   "name": "python3",
   "display_name": "Python 3.8.8 64-bit ('base': conda)"
  },
  "interpreter": {
   "hash": "dca0ade3e726a953b501b15e8e990130d2b7799f14cfd9f4271676035ebe5511"
  }
 },
 "nbformat": 4,
 "nbformat_minor": 2
}